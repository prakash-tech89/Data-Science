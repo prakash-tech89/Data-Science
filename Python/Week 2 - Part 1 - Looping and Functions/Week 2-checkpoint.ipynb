{
 "cells": [
  {
   "cell_type": "markdown",
   "metadata": {},
   "source": [
    "Indendation"
   ]
  },
  {
   "cell_type": "code",
   "execution_count": null,
   "metadata": {},
   "outputs": [],
   "source": [
    "a = int(input(\"Enter your age: \"))"
   ]
  },
  {
   "cell_type": "code",
   "execution_count": null,
   "metadata": {},
   "outputs": [],
   "source": [
    "print(\"Your age is\",a)"
   ]
  },
  {
   "cell_type": "markdown",
   "metadata": {},
   "source": [
    "Conditional Statement"
   ]
  },
  {
   "cell_type": "code",
   "execution_count": null,
   "metadata": {},
   "outputs": [],
   "source": [
    "if a <= 25:\n",
    "    print(\"Your age is less than 25\")\n",
    "elif a <=30:\n",
    "    print(\"Your age is less than 30\")\n",
    "else :\n",
    "    print(\"Your age is greater than 30\")"
   ]
  },
  {
   "cell_type": "code",
   "execution_count": null,
   "metadata": {},
   "outputs": [],
   "source": [
    "lst=list(range(0,10))\n",
    "lst_a=[3,2,4,56,-10]"
   ]
  },
  {
   "cell_type": "markdown",
   "metadata": {},
   "source": [
    "Looping Statement"
   ]
  },
  {
   "cell_type": "code",
   "execution_count": null,
   "metadata": {},
   "outputs": [],
   "source": [
    "for i in lst:\n",
    "    print(lst[i])"
   ]
  },
  {
   "cell_type": "code",
   "execution_count": null,
   "metadata": {},
   "outputs": [],
   "source": [
    "for i in range(0,len(lst_a)):\n",
    "    print(lst_a[i])\n",
    "    "
   ]
  },
  {
   "cell_type": "code",
   "execution_count": null,
   "metadata": {},
   "outputs": [],
   "source": [
    "for i in lst_a:\n",
    "    print(i)"
   ]
  },
  {
   "cell_type": "code",
   "execution_count": 1,
   "metadata": {},
   "outputs": [
    {
     "name": "stdout",
     "output_type": "stream",
     "text": [
      "Enter your name :Prakash and Noordeen\n"
     ]
    }
   ],
   "source": [
    "stringa = input(\"Enter your name :\")"
   ]
  },
  {
   "cell_type": "code",
   "execution_count": 3,
   "metadata": {},
   "outputs": [
    {
     "name": "stdout",
     "output_type": "stream",
     "text": [
      "P\n",
      "r\n",
      "a\n",
      "k\n",
      "a\n",
      "s\n",
      "h\n",
      " \n",
      "a\n",
      "n\n",
      "d\n",
      " \n",
      "N\n",
      "o\n",
      "o\n",
      "r\n",
      "d\n",
      "e\n",
      "E found\n"
     ]
    }
   ],
   "source": [
    "for i in stringa:\n",
    "    print(i)\n",
    "    if i=='e':\n",
    "        print(\"E found\")\n",
    "        break\n",
    "        print(\"E is there\")"
   ]
  },
  {
   "cell_type": "code",
   "execution_count": 4,
   "metadata": {},
   "outputs": [
    {
     "name": "stdout",
     "output_type": "stream",
     "text": [
      "P\n",
      "r\n",
      "a\n",
      "k\n",
      "a\n",
      "s\n",
      "h\n",
      " \n",
      "a\n",
      "n\n",
      "d\n",
      " \n",
      "N\n",
      "o\n",
      "o\n",
      "r\n",
      "d\n",
      "e\n",
      "E found\n",
      "e\n",
      "E found\n",
      "n\n"
     ]
    }
   ],
   "source": [
    "for i in stringa:\n",
    "    print(i)\n",
    "    if i=='e':\n",
    "        print(\"E found\")\n",
    "        continue\n",
    "        print(\"Still E is there\")"
   ]
  },
  {
   "cell_type": "code",
   "execution_count": 5,
   "metadata": {},
   "outputs": [
    {
     "name": "stdout",
     "output_type": "stream",
     "text": [
      "5\n",
      "4\n",
      "3\n",
      "2\n",
      "1\n"
     ]
    }
   ],
   "source": [
    "i = 5\n",
    "while i>0:\n",
    "    print(i)\n",
    "    i = i - 1"
   ]
  },
  {
   "cell_type": "markdown",
   "metadata": {},
   "source": [
    "program to get size of list as input and get each value as input\n",
    "Sum of all value in list \n",
    "program to exclude odd and print only even number"
   ]
  },
  {
   "cell_type": "code",
   "execution_count": 9,
   "metadata": {},
   "outputs": [
    {
     "name": "stdout",
     "output_type": "stream",
     "text": [
      "Enter size of list3\n",
      "Enter elements of list1\n",
      "Enter elements of list2\n",
      "Enter elements of list3\n"
     ]
    },
    {
     "data": {
      "text/plain": [
       "6"
      ]
     },
     "execution_count": 9,
     "metadata": {},
     "output_type": "execute_result"
    }
   ],
   "source": [
    "lst_size = int(input(\"Enter size of list\"))\n",
    "lst=[]\n",
    "for i in range(0,lst_size):\n",
    "    #lst.append(int(input(\"Enter elements of list\")))\n",
    "    #lst[i]=int(input(\"Enter elements of list\"))\n",
    "sum=0    \n",
    "for i in lst:\n",
    "    sum = sum +i\n",
    "sum"
   ]
  },
  {
   "cell_type": "markdown",
   "metadata": {},
   "source": [
    "lst_size = int(input(\"Enter size of list\"))\n",
    "lst=[]\n",
    "for i in range(0,lst_size):\n",
    "    lst.append(int(input(\"Enter elements of list\")))\n",
    "for i in lst:\n",
    "    if i%2==0:\n",
    "        print(\"Only Even value\",i)\n"
   ]
  },
  {
   "cell_type": "markdown",
   "metadata": {},
   "source": [
    "Program to print factorial of given number"
   ]
  },
  {
   "cell_type": "code",
   "execution_count": 26,
   "metadata": {},
   "outputs": [
    {
     "name": "stdout",
     "output_type": "stream",
     "text": [
      "Enter number  :2\n"
     ]
    },
    {
     "data": {
      "text/plain": [
       "2"
      ]
     },
     "execution_count": 26,
     "metadata": {},
     "output_type": "execute_result"
    }
   ],
   "source": [
    "n=int(input(\"Enter number  :\"))\n",
    "fact=1\n",
    "i=1\n",
    "while(i<=n):\n",
    "    if(i==0 or i ==1):\n",
    "        fact=1\n",
    "    else:\n",
    "        fact= fact * i\n",
    "    i+=1\n",
    "fact"
   ]
  },
  {
   "cell_type": "code",
   "execution_count": 27,
   "metadata": {},
   "outputs": [],
   "source": [
    "# function\n",
    "\n",
    "def test():\n",
    "    \n",
    "    \"\"\"This is test function\"\"\"\n",
    "    print(\"Hi\")"
   ]
  },
  {
   "cell_type": "code",
   "execution_count": 28,
   "metadata": {},
   "outputs": [],
   "source": [
    "test?"
   ]
  },
  {
   "cell_type": "code",
   "execution_count": 29,
   "metadata": {},
   "outputs": [
    {
     "name": "stdout",
     "output_type": "stream",
     "text": [
      "Help on function test in module __main__:\n",
      "\n",
      "test()\n",
      "    This is test function\n",
      "\n"
     ]
    }
   ],
   "source": [
    "help(test)"
   ]
  },
  {
   "cell_type": "code",
   "execution_count": 30,
   "metadata": {},
   "outputs": [
    {
     "data": {
      "text/plain": [
       "'This is test function'"
      ]
     },
     "execution_count": 30,
     "metadata": {},
     "output_type": "execute_result"
    }
   ],
   "source": [
    "test.__doc__"
   ]
  },
  {
   "cell_type": "code",
   "execution_count": 32,
   "metadata": {},
   "outputs": [
    {
     "name": "stdout",
     "output_type": "stream",
     "text": [
      "Enter number 1 :10\n",
      "Enter number 2 :2\n",
      "enter 1 for addition 2 for sub 3 for mul 4 for div 5 for mod 6 for exit3\n",
      "20\n",
      "enter 1 for addition 2 for sub 3 for mul 4 for div 5 for mod 6 for exit4\n",
      "5.0\n",
      "enter 1 for addition 2 for sub 3 for mul 4 for div 5 for mod 6 for exit1\n",
      "12\n",
      "enter 1 for addition 2 for sub 3 for mul 4 for div 5 for mod 6 for exit6\n"
     ]
    }
   ],
   "source": [
    "# program to compute add , sub, mul,div,modulo and exit\n",
    "a=int(input(\"Enter number 1 :\"))\n",
    "b=int(input(\"Enter number 2 :\"))\n",
    "def add(a,b):\n",
    "    return a+b\n",
    "def sub(a,b):\n",
    "    return a-b\n",
    "def mul(a,b):\n",
    "    return a*b\n",
    "def div(a,b):\n",
    "    return a/b\n",
    "def mod(a,b):\n",
    "    return a%b\n",
    "n=int(input(\"enter 1 for addition 2 for sub 3 for mul 4 for div 5 for mod 6 for exit\"))\n",
    "while(n<6):\n",
    "    if n==1:\n",
    "        print(add(a,b))\n",
    "    elif n==2:\n",
    "        print(sub(a,b))\n",
    "    elif n==3:\n",
    "        print(mul(a,b))   \n",
    "    elif n==4:\n",
    "        print(div(a,b))\n",
    "    elif n==5:\n",
    "        print(mod(a,b))\n",
    "    n=int(input(\"enter 1 for addition 2 for sub 3 for mul 4 for div 5 for mod 6 for exit\"))\n",
    "    "
   ]
  },
  {
   "cell_type": "code",
   "execution_count": 51,
   "metadata": {},
   "outputs": [
    {
     "name": "stdout",
     "output_type": "stream",
     "text": [
      "[7, 7]\n"
     ]
    }
   ],
   "source": [
    "#function to print top of list\n",
    "def topn(a,n):\n",
    "    max_a=0\n",
    "    b=[]\n",
    "    for i in range(0,n):\n",
    "        max_a=0\n",
    "        for j in a:\n",
    "            if max_a < j:\n",
    "                max_a=j\n",
    "        a.remove(max_a)        \n",
    "        b.append(max_a)\n",
    "    return b    \n",
    "a=[4,5,6,7,7]\n",
    "print(topn(a,2))\n",
    "            \n",
    "            \n",
    "            "
   ]
  },
  {
   "cell_type": "code",
   "execution_count": null,
   "metadata": {},
   "outputs": [],
   "source": [
    "def check_vowels(a):\n",
    "    a.lower()\n",
    "    print(a)\n",
    "    vowels_list=['a','e','i','o','u']\n",
    "    for i in a:\n",
    "        if i in vowels_list:\n",
    "            print(\"Vowel exist\",i)\n",
    "        \n",
    "        \n",
    "\n",
    "a=str(input(\"Enter string\")).lower()\n",
    "check_vowels(a)\n",
    "\n"
   ]
  },
  {
   "cell_type": "code",
   "execution_count": null,
   "metadata": {},
   "outputs": [],
   "source": []
  },
  {
   "cell_type": "code",
   "execution_count": null,
   "metadata": {},
   "outputs": [],
   "source": []
  }
 ],
 "metadata": {
  "kernelspec": {
   "display_name": "Python 3",
   "language": "python",
   "name": "python3"
  }
 },
 "nbformat": 4,
 "nbformat_minor": 2
}
