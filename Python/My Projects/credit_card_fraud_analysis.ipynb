{
  "nbformat": 4,
  "nbformat_minor": 0,
  "metadata": {
    "kernelspec": {
      "display_name": "Python 3",
      "language": "python",
      "name": "python3"
    },
    "language_info": {
      "codemirror_mode": {
        "name": "ipython",
        "version": 3
      },
      "file_extension": ".py",
      "mimetype": "text/x-python",
      "name": "python",
      "nbconvert_exporter": "python",
      "pygments_lexer": "ipython3",
      "version": "3.6.6"
    },
    "colab": {
      "name": "credit-card-fraud-analysis.ipynb",
      "version": "0.3.2",
      "provenance": [],
      "collapsed_sections": [],
      "include_colab_link": true
    }
  },
  "cells": [
    {
      "cell_type": "markdown",
      "metadata": {
        "id": "view-in-github",
        "colab_type": "text"
      },
      "source": [
        "<a href=\"https://colab.research.google.com/github/prakash-tech89/Data-Science/blob/master/Python/Hackathon/credit_card_fraud_analysis.ipynb\" target=\"_parent\"><img src=\"https://colab.research.google.com/assets/colab-badge.svg\" alt=\"Open In Colab\"/></a>"
      ]
    },
    {
      "cell_type": "code",
      "metadata": {
        "id": "JiPfT8b-dP3o",
        "colab_type": "code",
        "outputId": "513666f4-9baa-40d3-87ee-39ac8461c2eb",
        "colab": {}
      },
      "source": [
        "# This Python 3 environment comes with many helpful analytics libraries installed\n",
        "# It is defined by the kaggle/python docker image: https://github.com/kaggle/docker-python\n",
        "# For example, here's several helpful packages to load in \n",
        "\n",
        "import numpy as np # linear algebra\n",
        "import pandas as pd # data processing, CSV file I/O (e.g. pd.read_csv)\n",
        "\n",
        "\n",
        "# Input data files are available in the \"../input/\" directory.\n",
        "# For example, running this (by clicking run or pressing Shift+Enter) will list the files in the input directory\n",
        "\n",
        "import os\n",
        "print(os.listdir(\"../input\"))\n",
        "\n",
        "# Any results you write to the current directory are saved as output."
      ],
      "execution_count": 0,
      "outputs": [
        {
          "output_type": "stream",
          "text": [
            "['credit_train.csv', 'credit_test.csv']\n"
          ],
          "name": "stdout"
        }
      ]
    },
    {
      "cell_type": "code",
      "metadata": {
        "id": "ENkiCnRxdP30",
        "colab_type": "code",
        "colab": {}
      },
      "source": [
        "# Generic library\n",
        "import numpy as np\n",
        "import pandas as pd\n",
        "import matplotlib.pyplot as plt\n",
        "%matplotlib inline\n",
        "import seaborn as sns"
      ],
      "execution_count": 0,
      "outputs": []
    },
    {
      "cell_type": "code",
      "metadata": {
        "id": "iHcbTaWzdP3-",
        "colab_type": "code",
        "colab": {}
      },
      "source": [
        "train_df=pd.read_csv(\"../input/credit_train.csv\")\n",
        "test_df=pd.read_csv(\"../input/credit_test.csv\")\n",
        "#submission_df=pd.read_csv(\"../input/sample_submission.csv\")"
      ],
      "execution_count": 0,
      "outputs": []
    },
    {
      "cell_type": "code",
      "metadata": {
        "id": "2ub57VCzdP4F",
        "colab_type": "code",
        "outputId": "96c1012f-2a3c-4f4d-9adf-91de115770e2",
        "colab": {}
      },
      "source": [
        "print(\"Train size : rows\",train_df.shape[0],\" and columns\",train_df.shape[1])\n",
        "print(\"Test size : rows\",test_df.shape[0],\" and columns\",test_df.shape[1])\n",
        "#print(\"Submission size : rows\",submission_df.shape[0],\" and columns\",submission_df.shape[1])"
      ],
      "execution_count": 0,
      "outputs": [
        {
          "output_type": "stream",
          "text": [
            "Train size : rows 227845  and columns 30\n",
            "Test size : rows 56962  and columns 30\n"
          ],
          "name": "stdout"
        }
      ]
    },
    {
      "cell_type": "code",
      "metadata": {
        "id": "u8sWoGnvdP4M",
        "colab_type": "code",
        "outputId": "2330771b-7987-415d-f6eb-d7ca4b961a72",
        "colab": {}
      },
      "source": [
        "train_df.columns"
      ],
      "execution_count": 0,
      "outputs": [
        {
          "output_type": "execute_result",
          "data": {
            "text/plain": [
              "Index(['V1', 'V2', 'V3', 'V4', 'V5', 'V6', 'V7', 'V8', 'V9', 'V10', 'V11',\n",
              "       'V12', 'V13', 'V14', 'V15', 'V16', 'V17', 'V18', 'V19', 'V20', 'V21',\n",
              "       'V22', 'V23', 'V24', 'V25', 'V26', 'V27', 'V28', 'Amount', 'Class'],\n",
              "      dtype='object')"
            ]
          },
          "metadata": {
            "tags": []
          },
          "execution_count": 5
        }
      ]
    },
    {
      "cell_type": "code",
      "metadata": {
        "id": "t6dZjzW1dP4S",
        "colab_type": "code",
        "outputId": "a7027ad2-342a-4ec0-9026-0572c0f54ee9",
        "colab": {}
      },
      "source": [
        "train_df.columns.difference(test_df.columns)"
      ],
      "execution_count": 0,
      "outputs": [
        {
          "output_type": "execute_result",
          "data": {
            "text/plain": [
              "Index([], dtype='object')"
            ]
          },
          "metadata": {
            "tags": []
          },
          "execution_count": 6
        }
      ]
    },
    {
      "cell_type": "code",
      "metadata": {
        "id": "0B3hddCSdP4Z",
        "colab_type": "code",
        "colab": {}
      },
      "source": [
        "train_df[\"source\"] = \"train\"\n",
        "test_df[\"source\"] = \"test\"\n",
        "df = pd.concat([train_df,test_df])"
      ],
      "execution_count": 0,
      "outputs": []
    },
    {
      "cell_type": "code",
      "metadata": {
        "id": "qlkmcErWdP4g",
        "colab_type": "code",
        "outputId": "0e913d5e-337a-49c6-bc59-ecef0413449c",
        "colab": {}
      },
      "source": [
        "df.dtypes"
      ],
      "execution_count": 0,
      "outputs": [
        {
          "output_type": "execute_result",
          "data": {
            "text/plain": [
              "V1        float64\n",
              "V2        float64\n",
              "V3        float64\n",
              "V4        float64\n",
              "V5        float64\n",
              "V6        float64\n",
              "V7        float64\n",
              "V8        float64\n",
              "V9        float64\n",
              "V10       float64\n",
              "V11       float64\n",
              "V12       float64\n",
              "V13       float64\n",
              "V14       float64\n",
              "V15       float64\n",
              "V16       float64\n",
              "V17       float64\n",
              "V18       float64\n",
              "V19       float64\n",
              "V20       float64\n",
              "V21       float64\n",
              "V22       float64\n",
              "V23       float64\n",
              "V24       float64\n",
              "V25       float64\n",
              "V26       float64\n",
              "V27       float64\n",
              "V28       float64\n",
              "Amount    float64\n",
              "Class      object\n",
              "source     object\n",
              "dtype: object"
            ]
          },
          "metadata": {
            "tags": []
          },
          "execution_count": 8
        }
      ]
    },
    {
      "cell_type": "code",
      "metadata": {
        "id": "e9_V9OjzdP4p",
        "colab_type": "code",
        "outputId": "4dffcbb0-7bba-4fd6-f17f-39647fd975e8",
        "colab": {}
      },
      "source": [
        "df.shape"
      ],
      "execution_count": 0,
      "outputs": [
        {
          "output_type": "execute_result",
          "data": {
            "text/plain": [
              "(284807, 31)"
            ]
          },
          "metadata": {
            "tags": []
          },
          "execution_count": 9
        }
      ]
    },
    {
      "cell_type": "code",
      "metadata": {
        "id": "5BR8G-HmdP4s",
        "colab_type": "code",
        "outputId": "7d3f5b10-94a0-4045-a8b3-89c25f0b61b0",
        "colab": {}
      },
      "source": [
        "df.duplicated().sum()"
      ],
      "execution_count": 0,
      "outputs": [
        {
          "output_type": "execute_result",
          "data": {
            "text/plain": [
              "7101"
            ]
          },
          "metadata": {
            "tags": []
          },
          "execution_count": 10
        }
      ]
    },
    {
      "cell_type": "code",
      "metadata": {
        "id": "N7Rb2Ph5dP4x",
        "colab_type": "code",
        "colab": {}
      },
      "source": [
        "df.drop_duplicates(inplace=True)"
      ],
      "execution_count": 0,
      "outputs": []
    },
    {
      "cell_type": "code",
      "metadata": {
        "id": "-OFtiZbjdP42",
        "colab_type": "code",
        "outputId": "3842e413-d22f-4625-804d-399c614cc33d",
        "colab": {}
      },
      "source": [
        "df.duplicated().sum()"
      ],
      "execution_count": 0,
      "outputs": [
        {
          "output_type": "execute_result",
          "data": {
            "text/plain": [
              "0"
            ]
          },
          "metadata": {
            "tags": []
          },
          "execution_count": 12
        }
      ]
    },
    {
      "cell_type": "code",
      "metadata": {
        "id": "IB0idnoDdP46",
        "colab_type": "code",
        "outputId": "e31123e3-c9b2-45b4-8752-68d61679555b",
        "colab": {}
      },
      "source": [
        "df.isna().sum()"
      ],
      "execution_count": 0,
      "outputs": [
        {
          "output_type": "execute_result",
          "data": {
            "text/plain": [
              "V1        0\n",
              "V2        0\n",
              "V3        0\n",
              "V4        0\n",
              "V5        0\n",
              "V6        0\n",
              "V7        0\n",
              "V8        0\n",
              "V9        0\n",
              "V10       0\n",
              "V11       0\n",
              "V12       0\n",
              "V13       0\n",
              "V14       0\n",
              "V15       0\n",
              "V16       0\n",
              "V17       0\n",
              "V18       0\n",
              "V19       0\n",
              "V20       0\n",
              "V21       0\n",
              "V22       0\n",
              "V23       0\n",
              "V24       0\n",
              "V25       0\n",
              "V26       0\n",
              "V27       0\n",
              "V28       0\n",
              "Amount    0\n",
              "Class     0\n",
              "source    0\n",
              "dtype: int64"
            ]
          },
          "metadata": {
            "tags": []
          },
          "execution_count": 13
        }
      ]
    },
    {
      "cell_type": "code",
      "metadata": {
        "id": "RB3WuTzVdP4-",
        "colab_type": "code",
        "outputId": "18120fb5-ab4f-439a-ba8f-ff619b544d98",
        "colab": {}
      },
      "source": [
        "df.describe().transpose()"
      ],
      "execution_count": 0,
      "outputs": [
        {
          "output_type": "execute_result",
          "data": {
            "text/html": [
              "<div>\n",
              "<style scoped>\n",
              "    .dataframe tbody tr th:only-of-type {\n",
              "        vertical-align: middle;\n",
              "    }\n",
              "\n",
              "    .dataframe tbody tr th {\n",
              "        vertical-align: top;\n",
              "    }\n",
              "\n",
              "    .dataframe thead th {\n",
              "        text-align: right;\n",
              "    }\n",
              "</style>\n",
              "<table border=\"1\" class=\"dataframe\">\n",
              "  <thead>\n",
              "    <tr style=\"text-align: right;\">\n",
              "      <th></th>\n",
              "      <th>count</th>\n",
              "      <th>mean</th>\n",
              "      <th>std</th>\n",
              "      <th>min</th>\n",
              "      <th>25%</th>\n",
              "      <th>50%</th>\n",
              "      <th>75%</th>\n",
              "      <th>max</th>\n",
              "    </tr>\n",
              "  </thead>\n",
              "  <tbody>\n",
              "    <tr>\n",
              "      <th>V1</th>\n",
              "      <td>277706.0</td>\n",
              "      <td>-0.029554</td>\n",
              "      <td>1.954360</td>\n",
              "      <td>-56.407510</td>\n",
              "      <td>-0.936874</td>\n",
              "      <td>-0.041122</td>\n",
              "      <td>1.297485</td>\n",
              "      <td>2.454930</td>\n",
              "    </tr>\n",
              "    <tr>\n",
              "      <th>V2</th>\n",
              "      <td>277706.0</td>\n",
              "      <td>-0.001489</td>\n",
              "      <td>1.663922</td>\n",
              "      <td>-72.715728</td>\n",
              "      <td>-0.610029</td>\n",
              "      <td>0.069657</td>\n",
              "      <td>0.815974</td>\n",
              "      <td>22.057729</td>\n",
              "    </tr>\n",
              "    <tr>\n",
              "      <th>V3</th>\n",
              "      <td>277706.0</td>\n",
              "      <td>0.020827</td>\n",
              "      <td>1.508901</td>\n",
              "      <td>-48.325589</td>\n",
              "      <td>-0.852057</td>\n",
              "      <td>0.196684</td>\n",
              "      <td>1.043752</td>\n",
              "      <td>9.382558</td>\n",
              "    </tr>\n",
              "    <tr>\n",
              "      <th>V4</th>\n",
              "      <td>277706.0</td>\n",
              "      <td>-0.002778</td>\n",
              "      <td>1.421973</td>\n",
              "      <td>-5.683171</td>\n",
              "      <td>-0.859522</td>\n",
              "      <td>-0.030019</td>\n",
              "      <td>0.751625</td>\n",
              "      <td>16.875344</td>\n",
              "    </tr>\n",
              "    <tr>\n",
              "      <th>V5</th>\n",
              "      <td>277706.0</td>\n",
              "      <td>-0.010011</td>\n",
              "      <td>1.377634</td>\n",
              "      <td>-113.743307</td>\n",
              "      <td>-0.698811</td>\n",
              "      <td>-0.060230</td>\n",
              "      <td>0.603954</td>\n",
              "      <td>34.801666</td>\n",
              "    </tr>\n",
              "    <tr>\n",
              "      <th>V6</th>\n",
              "      <td>277706.0</td>\n",
              "      <td>-0.013453</td>\n",
              "      <td>1.315205</td>\n",
              "      <td>-26.160506</td>\n",
              "      <td>-0.766745</td>\n",
              "      <td>-0.272534</td>\n",
              "      <td>0.387290</td>\n",
              "      <td>73.301626</td>\n",
              "    </tr>\n",
              "    <tr>\n",
              "      <th>V7</th>\n",
              "      <td>277706.0</td>\n",
              "      <td>0.006748</td>\n",
              "      <td>1.239696</td>\n",
              "      <td>-43.557242</td>\n",
              "      <td>-0.552703</td>\n",
              "      <td>0.043854</td>\n",
              "      <td>0.580746</td>\n",
              "      <td>120.589494</td>\n",
              "    </tr>\n",
              "    <tr>\n",
              "      <th>V8</th>\n",
              "      <td>277706.0</td>\n",
              "      <td>-0.004858</td>\n",
              "      <td>1.191002</td>\n",
              "      <td>-73.216718</td>\n",
              "      <td>-0.209628</td>\n",
              "      <td>0.022482</td>\n",
              "      <td>0.322079</td>\n",
              "      <td>20.007208</td>\n",
              "    </tr>\n",
              "    <tr>\n",
              "      <th>V9</th>\n",
              "      <td>277706.0</td>\n",
              "      <td>-0.009322</td>\n",
              "      <td>1.100006</td>\n",
              "      <td>-13.434066</td>\n",
              "      <td>-0.655966</td>\n",
              "      <td>-0.061404</td>\n",
              "      <td>0.594373</td>\n",
              "      <td>15.594995</td>\n",
              "    </tr>\n",
              "    <tr>\n",
              "      <th>V10</th>\n",
              "      <td>277706.0</td>\n",
              "      <td>0.002300</td>\n",
              "      <td>1.087573</td>\n",
              "      <td>-24.588262</td>\n",
              "      <td>-0.538130</td>\n",
              "      <td>-0.092165</td>\n",
              "      <td>0.467122</td>\n",
              "      <td>23.745136</td>\n",
              "    </tr>\n",
              "    <tr>\n",
              "      <th>V11</th>\n",
              "      <td>277706.0</td>\n",
              "      <td>-0.005724</td>\n",
              "      <td>1.020625</td>\n",
              "      <td>-4.797473</td>\n",
              "      <td>-0.771169</td>\n",
              "      <td>-0.038284</td>\n",
              "      <td>0.736324</td>\n",
              "      <td>12.018913</td>\n",
              "    </tr>\n",
              "    <tr>\n",
              "      <th>V12</th>\n",
              "      <td>277706.0</td>\n",
              "      <td>-0.003688</td>\n",
              "      <td>0.998951</td>\n",
              "      <td>-18.683715</td>\n",
              "      <td>-0.411998</td>\n",
              "      <td>0.135329</td>\n",
              "      <td>0.616124</td>\n",
              "      <td>7.848392</td>\n",
              "    </tr>\n",
              "    <tr>\n",
              "      <th>V13</th>\n",
              "      <td>277706.0</td>\n",
              "      <td>0.000660</td>\n",
              "      <td>0.998963</td>\n",
              "      <td>-5.791881</td>\n",
              "      <td>-0.653342</td>\n",
              "      <td>-0.011646</td>\n",
              "      <td>0.667802</td>\n",
              "      <td>7.126883</td>\n",
              "    </tr>\n",
              "    <tr>\n",
              "      <th>V14</th>\n",
              "      <td>277706.0</td>\n",
              "      <td>0.000761</td>\n",
              "      <td>0.953629</td>\n",
              "      <td>-19.214325</td>\n",
              "      <td>-0.425776</td>\n",
              "      <td>0.049876</td>\n",
              "      <td>0.492325</td>\n",
              "      <td>10.526766</td>\n",
              "    </tr>\n",
              "    <tr>\n",
              "      <th>V15</th>\n",
              "      <td>277706.0</td>\n",
              "      <td>-0.008561</td>\n",
              "      <td>0.917119</td>\n",
              "      <td>-4.498945</td>\n",
              "      <td>-0.593609</td>\n",
              "      <td>0.038087</td>\n",
              "      <td>0.640543</td>\n",
              "      <td>8.877742</td>\n",
              "    </tr>\n",
              "    <tr>\n",
              "      <th>V16</th>\n",
              "      <td>277706.0</td>\n",
              "      <td>-0.003353</td>\n",
              "      <td>0.879244</td>\n",
              "      <td>-14.129855</td>\n",
              "      <td>-0.475574</td>\n",
              "      <td>0.062734</td>\n",
              "      <td>0.524449</td>\n",
              "      <td>17.315112</td>\n",
              "    </tr>\n",
              "    <tr>\n",
              "      <th>V17</th>\n",
              "      <td>277706.0</td>\n",
              "      <td>0.000460</td>\n",
              "      <td>0.845200</td>\n",
              "      <td>-25.162799</td>\n",
              "      <td>-0.482515</td>\n",
              "      <td>-0.063837</td>\n",
              "      <td>0.400852</td>\n",
              "      <td>9.253526</td>\n",
              "    </tr>\n",
              "    <tr>\n",
              "      <th>V18</th>\n",
              "      <td>277706.0</td>\n",
              "      <td>0.002925</td>\n",
              "      <td>0.840867</td>\n",
              "      <td>-9.498746</td>\n",
              "      <td>-0.498850</td>\n",
              "      <td>0.000430</td>\n",
              "      <td>0.506194</td>\n",
              "      <td>5.041069</td>\n",
              "    </tr>\n",
              "    <tr>\n",
              "      <th>V19</th>\n",
              "      <td>277706.0</td>\n",
              "      <td>0.000640</td>\n",
              "      <td>0.818943</td>\n",
              "      <td>-7.213527</td>\n",
              "      <td>-0.462928</td>\n",
              "      <td>0.001734</td>\n",
              "      <td>0.464486</td>\n",
              "      <td>5.591971</td>\n",
              "    </tr>\n",
              "    <tr>\n",
              "      <th>V20</th>\n",
              "      <td>277706.0</td>\n",
              "      <td>0.002659</td>\n",
              "      <td>0.777849</td>\n",
              "      <td>-54.497720</td>\n",
              "      <td>-0.211995</td>\n",
              "      <td>-0.059149</td>\n",
              "      <td>0.138287</td>\n",
              "      <td>39.420904</td>\n",
              "    </tr>\n",
              "    <tr>\n",
              "      <th>V21</th>\n",
              "      <td>277706.0</td>\n",
              "      <td>0.001880</td>\n",
              "      <td>0.732117</td>\n",
              "      <td>-34.830382</td>\n",
              "      <td>-0.225808</td>\n",
              "      <td>-0.026539</td>\n",
              "      <td>0.188424</td>\n",
              "      <td>27.202839</td>\n",
              "    </tr>\n",
              "    <tr>\n",
              "      <th>V22</th>\n",
              "      <td>277706.0</td>\n",
              "      <td>0.004552</td>\n",
              "      <td>0.726076</td>\n",
              "      <td>-10.933144</td>\n",
              "      <td>-0.534582</td>\n",
              "      <td>0.012011</td>\n",
              "      <td>0.532833</td>\n",
              "      <td>10.503090</td>\n",
              "    </tr>\n",
              "    <tr>\n",
              "      <th>V23</th>\n",
              "      <td>277706.0</td>\n",
              "      <td>-0.001494</td>\n",
              "      <td>0.630009</td>\n",
              "      <td>-44.807735</td>\n",
              "      <td>-0.164624</td>\n",
              "      <td>-0.013071</td>\n",
              "      <td>0.146111</td>\n",
              "      <td>22.528412</td>\n",
              "    </tr>\n",
              "    <tr>\n",
              "      <th>V24</th>\n",
              "      <td>277706.0</td>\n",
              "      <td>-0.005706</td>\n",
              "      <td>0.605298</td>\n",
              "      <td>-2.836627</td>\n",
              "      <td>-0.359663</td>\n",
              "      <td>0.038140</td>\n",
              "      <td>0.433631</td>\n",
              "      <td>4.584549</td>\n",
              "    </tr>\n",
              "    <tr>\n",
              "      <th>V25</th>\n",
              "      <td>277706.0</td>\n",
              "      <td>-0.003855</td>\n",
              "      <td>0.523483</td>\n",
              "      <td>-10.295397</td>\n",
              "      <td>-0.322158</td>\n",
              "      <td>0.011316</td>\n",
              "      <td>0.347762</td>\n",
              "      <td>7.519589</td>\n",
              "    </tr>\n",
              "    <tr>\n",
              "      <th>V26</th>\n",
              "      <td>277706.0</td>\n",
              "      <td>-0.000131</td>\n",
              "      <td>0.483786</td>\n",
              "      <td>-2.604551</td>\n",
              "      <td>-0.328074</td>\n",
              "      <td>-0.055475</td>\n",
              "      <td>0.243540</td>\n",
              "      <td>3.517346</td>\n",
              "    </tr>\n",
              "    <tr>\n",
              "      <th>V27</th>\n",
              "      <td>277706.0</td>\n",
              "      <td>0.001475</td>\n",
              "      <td>0.401737</td>\n",
              "      <td>-22.565679</td>\n",
              "      <td>-0.071561</td>\n",
              "      <td>0.002302</td>\n",
              "      <td>0.093885</td>\n",
              "      <td>31.612198</td>\n",
              "    </tr>\n",
              "    <tr>\n",
              "      <th>V28</th>\n",
              "      <td>277706.0</td>\n",
              "      <td>0.000695</td>\n",
              "      <td>0.332077</td>\n",
              "      <td>-15.430084</td>\n",
              "      <td>-0.052727</td>\n",
              "      <td>0.011670</td>\n",
              "      <td>0.080771</td>\n",
              "      <td>33.847808</td>\n",
              "    </tr>\n",
              "    <tr>\n",
              "      <th>Amount</th>\n",
              "      <td>277706.0</td>\n",
              "      <td>90.082456</td>\n",
              "      <td>252.478042</td>\n",
              "      <td>0.000000</td>\n",
              "      <td>6.140000</td>\n",
              "      <td>23.280000</td>\n",
              "      <td>79.207500</td>\n",
              "      <td>25691.160000</td>\n",
              "    </tr>\n",
              "  </tbody>\n",
              "</table>\n",
              "</div>"
            ],
            "text/plain": [
              "           count       mean         std         min       25%        50%  \\\n",
              "V1      277706.0  -0.029554    1.954360  -56.407510 -0.936874  -0.041122   \n",
              "V2      277706.0  -0.001489    1.663922  -72.715728 -0.610029   0.069657   \n",
              "V3      277706.0   0.020827    1.508901  -48.325589 -0.852057   0.196684   \n",
              "V4      277706.0  -0.002778    1.421973   -5.683171 -0.859522  -0.030019   \n",
              "V5      277706.0  -0.010011    1.377634 -113.743307 -0.698811  -0.060230   \n",
              "V6      277706.0  -0.013453    1.315205  -26.160506 -0.766745  -0.272534   \n",
              "V7      277706.0   0.006748    1.239696  -43.557242 -0.552703   0.043854   \n",
              "V8      277706.0  -0.004858    1.191002  -73.216718 -0.209628   0.022482   \n",
              "V9      277706.0  -0.009322    1.100006  -13.434066 -0.655966  -0.061404   \n",
              "V10     277706.0   0.002300    1.087573  -24.588262 -0.538130  -0.092165   \n",
              "V11     277706.0  -0.005724    1.020625   -4.797473 -0.771169  -0.038284   \n",
              "V12     277706.0  -0.003688    0.998951  -18.683715 -0.411998   0.135329   \n",
              "V13     277706.0   0.000660    0.998963   -5.791881 -0.653342  -0.011646   \n",
              "V14     277706.0   0.000761    0.953629  -19.214325 -0.425776   0.049876   \n",
              "V15     277706.0  -0.008561    0.917119   -4.498945 -0.593609   0.038087   \n",
              "V16     277706.0  -0.003353    0.879244  -14.129855 -0.475574   0.062734   \n",
              "V17     277706.0   0.000460    0.845200  -25.162799 -0.482515  -0.063837   \n",
              "V18     277706.0   0.002925    0.840867   -9.498746 -0.498850   0.000430   \n",
              "V19     277706.0   0.000640    0.818943   -7.213527 -0.462928   0.001734   \n",
              "V20     277706.0   0.002659    0.777849  -54.497720 -0.211995  -0.059149   \n",
              "V21     277706.0   0.001880    0.732117  -34.830382 -0.225808  -0.026539   \n",
              "V22     277706.0   0.004552    0.726076  -10.933144 -0.534582   0.012011   \n",
              "V23     277706.0  -0.001494    0.630009  -44.807735 -0.164624  -0.013071   \n",
              "V24     277706.0  -0.005706    0.605298   -2.836627 -0.359663   0.038140   \n",
              "V25     277706.0  -0.003855    0.523483  -10.295397 -0.322158   0.011316   \n",
              "V26     277706.0  -0.000131    0.483786   -2.604551 -0.328074  -0.055475   \n",
              "V27     277706.0   0.001475    0.401737  -22.565679 -0.071561   0.002302   \n",
              "V28     277706.0   0.000695    0.332077  -15.430084 -0.052727   0.011670   \n",
              "Amount  277706.0  90.082456  252.478042    0.000000  6.140000  23.280000   \n",
              "\n",
              "              75%           max  \n",
              "V1       1.297485      2.454930  \n",
              "V2       0.815974     22.057729  \n",
              "V3       1.043752      9.382558  \n",
              "V4       0.751625     16.875344  \n",
              "V5       0.603954     34.801666  \n",
              "V6       0.387290     73.301626  \n",
              "V7       0.580746    120.589494  \n",
              "V8       0.322079     20.007208  \n",
              "V9       0.594373     15.594995  \n",
              "V10      0.467122     23.745136  \n",
              "V11      0.736324     12.018913  \n",
              "V12      0.616124      7.848392  \n",
              "V13      0.667802      7.126883  \n",
              "V14      0.492325     10.526766  \n",
              "V15      0.640543      8.877742  \n",
              "V16      0.524449     17.315112  \n",
              "V17      0.400852      9.253526  \n",
              "V18      0.506194      5.041069  \n",
              "V19      0.464486      5.591971  \n",
              "V20      0.138287     39.420904  \n",
              "V21      0.188424     27.202839  \n",
              "V22      0.532833     10.503090  \n",
              "V23      0.146111     22.528412  \n",
              "V24      0.433631      4.584549  \n",
              "V25      0.347762      7.519589  \n",
              "V26      0.243540      3.517346  \n",
              "V27      0.093885     31.612198  \n",
              "V28      0.080771     33.847808  \n",
              "Amount  79.207500  25691.160000  "
            ]
          },
          "metadata": {
            "tags": []
          },
          "execution_count": 14
        }
      ]
    },
    {
      "cell_type": "code",
      "metadata": {
        "id": "qRysIxfpdP5C",
        "colab_type": "code",
        "colab": {}
      },
      "source": [
        "def split_dataframe(df,split_size):\n",
        "    col_lst=df.columns.drop([\"Class\",\"source\"]) \n",
        "    n=split_size\n",
        "    final = [col_lst[i * n:(i + 1) * n] for i in range((len(col_lst) + n - 1) // n )] \n",
        "    return final"
      ],
      "execution_count": 0,
      "outputs": []
    },
    {
      "cell_type": "code",
      "metadata": {
        "id": "2RV6H-ysdP5E",
        "colab_type": "code",
        "outputId": "f7a8e6fb-d713-4286-8a08-030bbc3d58ad",
        "colab": {}
      },
      "source": [
        "x=split_dataframe(df,5)\n",
        "for i in x:\n",
        "    print(i)"
      ],
      "execution_count": 0,
      "outputs": [
        {
          "output_type": "stream",
          "text": [
            "Index(['V1', 'V2', 'V3', 'V4', 'V5'], dtype='object')\n",
            "Index(['V6', 'V7', 'V8', 'V9', 'V10'], dtype='object')\n",
            "Index(['V11', 'V12', 'V13', 'V14', 'V15'], dtype='object')\n",
            "Index(['V16', 'V17', 'V18', 'V19', 'V20'], dtype='object')\n",
            "Index(['V21', 'V22', 'V23', 'V24', 'V25'], dtype='object')\n",
            "Index(['V26', 'V27', 'V28', 'Amount'], dtype='object')\n"
          ],
          "name": "stdout"
        }
      ]
    },
    {
      "cell_type": "code",
      "metadata": {
        "id": "faNj3GaudP5H",
        "colab_type": "code",
        "colab": {}
      },
      "source": [
        "#sns.pairplot(data=df,vars=x[0],hue='Class')\n",
        "#for i,col in enumerate(x):\n",
        "    #plt.figure(i)\n",
        "    #sns.pairplot(data=df,vars=col,hue='Class')"
      ],
      "execution_count": 0,
      "outputs": []
    },
    {
      "cell_type": "code",
      "metadata": {
        "id": "aGqIo76IdP5K",
        "colab_type": "code",
        "outputId": "19e03e35-87cd-4b57-850d-d13098f80ad3",
        "colab": {}
      },
      "source": [
        "df.groupby('Class').mean()"
      ],
      "execution_count": 0,
      "outputs": [
        {
          "output_type": "execute_result",
          "data": {
            "text/html": [
              "<div>\n",
              "<style scoped>\n",
              "    .dataframe tbody tr th:only-of-type {\n",
              "        vertical-align: middle;\n",
              "    }\n",
              "\n",
              "    .dataframe tbody tr th {\n",
              "        vertical-align: top;\n",
              "    }\n",
              "\n",
              "    .dataframe thead th {\n",
              "        text-align: right;\n",
              "    }\n",
              "</style>\n",
              "<table border=\"1\" class=\"dataframe\">\n",
              "  <thead>\n",
              "    <tr style=\"text-align: right;\">\n",
              "      <th></th>\n",
              "      <th>V1</th>\n",
              "      <th>V2</th>\n",
              "      <th>V3</th>\n",
              "      <th>V4</th>\n",
              "      <th>V5</th>\n",
              "      <th>V6</th>\n",
              "      <th>V7</th>\n",
              "      <th>V8</th>\n",
              "      <th>V9</th>\n",
              "      <th>V10</th>\n",
              "      <th>...</th>\n",
              "      <th>V20</th>\n",
              "      <th>V21</th>\n",
              "      <th>V22</th>\n",
              "      <th>V23</th>\n",
              "      <th>V24</th>\n",
              "      <th>V25</th>\n",
              "      <th>V26</th>\n",
              "      <th>V27</th>\n",
              "      <th>V28</th>\n",
              "      <th>Amount</th>\n",
              "    </tr>\n",
              "    <tr>\n",
              "      <th>Class</th>\n",
              "      <th></th>\n",
              "      <th></th>\n",
              "      <th></th>\n",
              "      <th></th>\n",
              "      <th></th>\n",
              "      <th></th>\n",
              "      <th></th>\n",
              "      <th></th>\n",
              "      <th></th>\n",
              "      <th></th>\n",
              "      <th></th>\n",
              "      <th></th>\n",
              "      <th></th>\n",
              "      <th></th>\n",
              "      <th></th>\n",
              "      <th></th>\n",
              "      <th></th>\n",
              "      <th></th>\n",
              "      <th></th>\n",
              "      <th></th>\n",
              "      <th></th>\n",
              "    </tr>\n",
              "  </thead>\n",
              "  <tbody>\n",
              "    <tr>\n",
              "      <th>'0'</th>\n",
              "      <td>-0.021788</td>\n",
              "      <td>-0.007393</td>\n",
              "      <td>0.032539</td>\n",
              "      <td>-0.010496</td>\n",
              "      <td>-0.004871</td>\n",
              "      <td>-0.011005</td>\n",
              "      <td>0.015772</td>\n",
              "      <td>-0.006482</td>\n",
              "      <td>-0.004972</td>\n",
              "      <td>0.011774</td>\n",
              "      <td>...</td>\n",
              "      <td>0.001957</td>\n",
              "      <td>0.001105</td>\n",
              "      <td>0.004402</td>\n",
              "      <td>-0.001329</td>\n",
              "      <td>-0.005535</td>\n",
              "      <td>-0.003931</td>\n",
              "      <td>-0.000218</td>\n",
              "      <td>0.001140</td>\n",
              "      <td>0.000566</td>\n",
              "      <td>90.023648</td>\n",
              "    </tr>\n",
              "    <tr>\n",
              "      <th>'1'</th>\n",
              "      <td>-4.552357</td>\n",
              "      <td>3.437130</td>\n",
              "      <td>-6.800541</td>\n",
              "      <td>4.492046</td>\n",
              "      <td>-3.003442</td>\n",
              "      <td>-1.439303</td>\n",
              "      <td>-5.248943</td>\n",
              "      <td>0.940808</td>\n",
              "      <td>-2.543053</td>\n",
              "      <td>-5.515049</td>\n",
              "      <td>...</td>\n",
              "      <td>0.411604</td>\n",
              "      <td>0.453448</td>\n",
              "      <td>0.091984</td>\n",
              "      <td>-0.097745</td>\n",
              "      <td>-0.105379</td>\n",
              "      <td>0.040542</td>\n",
              "      <td>0.050387</td>\n",
              "      <td>0.196774</td>\n",
              "      <td>0.075849</td>\n",
              "      <td>124.333277</td>\n",
              "    </tr>\n",
              "  </tbody>\n",
              "</table>\n",
              "<p>2 rows × 29 columns</p>\n",
              "</div>"
            ],
            "text/plain": [
              "             V1        V2        V3        V4        V5        V6        V7  \\\n",
              "Class                                                                         \n",
              "'0'   -0.021788 -0.007393  0.032539 -0.010496 -0.004871 -0.011005  0.015772   \n",
              "'1'   -4.552357  3.437130 -6.800541  4.492046 -3.003442 -1.439303 -5.248943   \n",
              "\n",
              "             V8        V9       V10  ...       V20       V21       V22  \\\n",
              "Class                                ...                                 \n",
              "'0'   -0.006482 -0.004972  0.011774  ...  0.001957  0.001105  0.004402   \n",
              "'1'    0.940808 -2.543053 -5.515049  ...  0.411604  0.453448  0.091984   \n",
              "\n",
              "            V23       V24       V25       V26       V27       V28      Amount  \n",
              "Class                                                                          \n",
              "'0'   -0.001329 -0.005535 -0.003931 -0.000218  0.001140  0.000566   90.023648  \n",
              "'1'   -0.097745 -0.105379  0.040542  0.050387  0.196774  0.075849  124.333277  \n",
              "\n",
              "[2 rows x 29 columns]"
            ]
          },
          "metadata": {
            "tags": []
          },
          "execution_count": 18
        }
      ]
    },
    {
      "cell_type": "code",
      "metadata": {
        "id": "cdhOHAojdP5M",
        "colab_type": "code",
        "outputId": "32345d2b-4617-4136-8511-692a6f4eb067",
        "colab": {}
      },
      "source": [
        "df.groupby('Class').median()"
      ],
      "execution_count": 0,
      "outputs": [
        {
          "output_type": "execute_result",
          "data": {
            "text/html": [
              "<div>\n",
              "<style scoped>\n",
              "    .dataframe tbody tr th:only-of-type {\n",
              "        vertical-align: middle;\n",
              "    }\n",
              "\n",
              "    .dataframe tbody tr th {\n",
              "        vertical-align: top;\n",
              "    }\n",
              "\n",
              "    .dataframe thead th {\n",
              "        text-align: right;\n",
              "    }\n",
              "</style>\n",
              "<table border=\"1\" class=\"dataframe\">\n",
              "  <thead>\n",
              "    <tr style=\"text-align: right;\">\n",
              "      <th></th>\n",
              "      <th>V1</th>\n",
              "      <th>V2</th>\n",
              "      <th>V3</th>\n",
              "      <th>V4</th>\n",
              "      <th>V5</th>\n",
              "      <th>V6</th>\n",
              "      <th>V7</th>\n",
              "      <th>V8</th>\n",
              "      <th>V9</th>\n",
              "      <th>V10</th>\n",
              "      <th>...</th>\n",
              "      <th>V20</th>\n",
              "      <th>V21</th>\n",
              "      <th>V22</th>\n",
              "      <th>V23</th>\n",
              "      <th>V24</th>\n",
              "      <th>V25</th>\n",
              "      <th>V26</th>\n",
              "      <th>V27</th>\n",
              "      <th>V28</th>\n",
              "      <th>Amount</th>\n",
              "    </tr>\n",
              "    <tr>\n",
              "      <th>Class</th>\n",
              "      <th></th>\n",
              "      <th></th>\n",
              "      <th></th>\n",
              "      <th></th>\n",
              "      <th></th>\n",
              "      <th></th>\n",
              "      <th></th>\n",
              "      <th></th>\n",
              "      <th></th>\n",
              "      <th></th>\n",
              "      <th></th>\n",
              "      <th></th>\n",
              "      <th></th>\n",
              "      <th></th>\n",
              "      <th></th>\n",
              "      <th></th>\n",
              "      <th></th>\n",
              "      <th></th>\n",
              "      <th></th>\n",
              "      <th></th>\n",
              "      <th></th>\n",
              "    </tr>\n",
              "  </thead>\n",
              "  <tbody>\n",
              "    <tr>\n",
              "      <th>'0'</th>\n",
              "      <td>-0.037868</td>\n",
              "      <td>0.068064</td>\n",
              "      <td>0.199495</td>\n",
              "      <td>-0.032880</td>\n",
              "      <td>-0.059276</td>\n",
              "      <td>-0.271530</td>\n",
              "      <td>0.044931</td>\n",
              "      <td>0.022185</td>\n",
              "      <td>-0.059917</td>\n",
              "      <td>-0.091151</td>\n",
              "      <td>...</td>\n",
              "      <td>-0.059348</td>\n",
              "      <td>-0.026906</td>\n",
              "      <td>0.011970</td>\n",
              "      <td>-0.013003</td>\n",
              "      <td>0.038264</td>\n",
              "      <td>0.011127</td>\n",
              "      <td>-0.055612</td>\n",
              "      <td>0.002192</td>\n",
              "      <td>0.011631</td>\n",
              "      <td>23.300</td>\n",
              "    </tr>\n",
              "    <tr>\n",
              "      <th>'1'</th>\n",
              "      <td>-2.272114</td>\n",
              "      <td>2.617845</td>\n",
              "      <td>-4.949563</td>\n",
              "      <td>4.146134</td>\n",
              "      <td>-1.394256</td>\n",
              "      <td>-1.421577</td>\n",
              "      <td>-2.926216</td>\n",
              "      <td>0.621508</td>\n",
              "      <td>-2.179119</td>\n",
              "      <td>-4.493399</td>\n",
              "      <td>...</td>\n",
              "      <td>0.285676</td>\n",
              "      <td>0.576441</td>\n",
              "      <td>0.056418</td>\n",
              "      <td>-0.075462</td>\n",
              "      <td>-0.060795</td>\n",
              "      <td>0.079108</td>\n",
              "      <td>0.010752</td>\n",
              "      <td>0.393510</td>\n",
              "      <td>0.145335</td>\n",
              "      <td>9.905</td>\n",
              "    </tr>\n",
              "  </tbody>\n",
              "</table>\n",
              "<p>2 rows × 29 columns</p>\n",
              "</div>"
            ],
            "text/plain": [
              "             V1        V2        V3        V4        V5        V6        V7  \\\n",
              "Class                                                                         \n",
              "'0'   -0.037868  0.068064  0.199495 -0.032880 -0.059276 -0.271530  0.044931   \n",
              "'1'   -2.272114  2.617845 -4.949563  4.146134 -1.394256 -1.421577 -2.926216   \n",
              "\n",
              "             V8        V9       V10  ...       V20       V21       V22  \\\n",
              "Class                                ...                                 \n",
              "'0'    0.022185 -0.059917 -0.091151  ... -0.059348 -0.026906  0.011970   \n",
              "'1'    0.621508 -2.179119 -4.493399  ...  0.285676  0.576441  0.056418   \n",
              "\n",
              "            V23       V24       V25       V26       V27       V28  Amount  \n",
              "Class                                                                      \n",
              "'0'   -0.013003  0.038264  0.011127 -0.055612  0.002192  0.011631  23.300  \n",
              "'1'   -0.075462 -0.060795  0.079108  0.010752  0.393510  0.145335   9.905  \n",
              "\n",
              "[2 rows x 29 columns]"
            ]
          },
          "metadata": {
            "tags": []
          },
          "execution_count": 19
        }
      ]
    },
    {
      "cell_type": "code",
      "metadata": {
        "id": "uJvecNOWdP5P",
        "colab_type": "code",
        "colab": {}
      },
      "source": [
        "df['Class']=df['Class'].str.strip(\"'\")\n"
      ],
      "execution_count": 0,
      "outputs": []
    },
    {
      "cell_type": "code",
      "metadata": {
        "id": "GENMoNHFdP5S",
        "colab_type": "code",
        "colab": {}
      },
      "source": [
        "df['Class']=df['Class'].astype(int)"
      ],
      "execution_count": 0,
      "outputs": []
    },
    {
      "cell_type": "code",
      "metadata": {
        "id": "WuLhmF67dP5c",
        "colab_type": "code",
        "colab": {}
      },
      "source": [
        "train_final = df[df.source==\"train\"]\n",
        "test_final = df[df.source==\"test\"]"
      ],
      "execution_count": 0,
      "outputs": []
    },
    {
      "cell_type": "code",
      "metadata": {
        "id": "NAS4eO9bdP5i",
        "colab_type": "code",
        "outputId": "bc2619c5-a7e6-442e-ac2f-9e1669ee644b",
        "colab": {}
      },
      "source": [
        "train_final.dtypes"
      ],
      "execution_count": 0,
      "outputs": [
        {
          "output_type": "execute_result",
          "data": {
            "text/plain": [
              "V1        float64\n",
              "V2        float64\n",
              "V3        float64\n",
              "V4        float64\n",
              "V5        float64\n",
              "V6        float64\n",
              "V7        float64\n",
              "V8        float64\n",
              "V9        float64\n",
              "V10       float64\n",
              "V11       float64\n",
              "V12       float64\n",
              "V13       float64\n",
              "V14       float64\n",
              "V15       float64\n",
              "V16       float64\n",
              "V17       float64\n",
              "V18       float64\n",
              "V19       float64\n",
              "V20       float64\n",
              "V21       float64\n",
              "V22       float64\n",
              "V23       float64\n",
              "V24       float64\n",
              "V25       float64\n",
              "V26       float64\n",
              "V27       float64\n",
              "V28       float64\n",
              "Amount    float64\n",
              "Class       int64\n",
              "source     object\n",
              "dtype: object"
            ]
          },
          "metadata": {
            "tags": []
          },
          "execution_count": 23
        }
      ]
    },
    {
      "cell_type": "code",
      "metadata": {
        "id": "1iwupwMxdP5l",
        "colab_type": "code",
        "colab": {}
      },
      "source": [
        "from sklearn.model_selection import train_test_split"
      ],
      "execution_count": 0,
      "outputs": []
    },
    {
      "cell_type": "code",
      "metadata": {
        "id": "1RLjPOgwdP5s",
        "colab_type": "code",
        "outputId": "7d1ce526-3170-4cd8-e2b1-16463b60c8e2",
        "colab": {}
      },
      "source": [
        "test_final.drop(['source','Class'], axis=1,inplace=True)\n",
        "X = train_final.drop(['Class','source'], axis=1)\n",
        "Y = train_final['Class']"
      ],
      "execution_count": 0,
      "outputs": [
        {
          "output_type": "stream",
          "text": [
            "/opt/conda/lib/python3.6/site-packages/pandas/core/frame.py:4097: SettingWithCopyWarning: \n",
            "A value is trying to be set on a copy of a slice from a DataFrame\n",
            "\n",
            "See the caveats in the documentation: http://pandas.pydata.org/pandas-docs/stable/user_guide/indexing.html#returning-a-view-versus-a-copy\n",
            "  errors=errors,\n"
          ],
          "name": "stderr"
        }
      ]
    },
    {
      "cell_type": "code",
      "metadata": {
        "id": "vXiXdUvrdP5u",
        "colab_type": "code",
        "colab": {}
      },
      "source": [
        "train_X, test_X, train_Y, test_Y = train_test_split(X, Y, test_size=0.2, random_state=1,stratify=Y)\n"
      ],
      "execution_count": 0,
      "outputs": []
    },
    {
      "cell_type": "code",
      "metadata": {
        "id": "Rkp0y2o5dP5y",
        "colab_type": "code",
        "outputId": "caefc934-22dc-4708-b959-065acf02a4a5",
        "colab": {}
      },
      "source": [
        "test_result=test_final.copy(deep=True)\n",
        "print(train_X.shape,test_X.shape,train_Y.shape,test_Y.shape,test_final.shape,test_result.shape)"
      ],
      "execution_count": 0,
      "outputs": [
        {
          "output_type": "stream",
          "text": [
            "(177157, 29) (44290, 29) (177157,) (44290,) (56259, 29) (56259, 29)\n"
          ],
          "name": "stdout"
        }
      ]
    },
    {
      "cell_type": "code",
      "metadata": {
        "id": "PqsbF6u3dP50",
        "colab_type": "code",
        "colab": {}
      },
      "source": [
        "from sklearn.metrics import confusion_matrix,classification_report,accuracy_score,precision_recall_curve, auc, roc_auc_score, roc_curve, recall_score,f1_score,precision_score\n",
        "from sklearn.preprocessing import StandardScaler\n",
        "from sklearn.preprocessing import PolynomialFeatures\n",
        "from sklearn.model_selection import cross_val_score\n",
        "\n",
        "model_metrics={}\n",
        "def calc_metrics_and_predict(model,model_label,train_X,test_X,train_Y,test_Y,test_final, scaler,cv):\n",
        "    if scaler is not None:\n",
        "        # Scaling\n",
        "        print(\"Scaling applied\")\n",
        "        train_X = scaler.fit_transform(train_X)\n",
        "        test_X = scaler.transform(test_X)\n",
        "    print(\"fit data\")    \n",
        "    model.fit(train_X, train_Y)\n",
        "    print(\"predict data\")\n",
        "    yhat_train = model.predict(train_X)\n",
        "    accuracy=accuracy_score(train_Y,yhat_train)\n",
        "    f1_macro=f1_score(train_Y, yhat_train, average='macro') \n",
        "    f1_micro=f1_score(train_Y, yhat_train, average='micro') \n",
        "    f1_weighted=f1_score(train_Y, yhat_train, average='weighted')\n",
        "    recall=recall_score(train_Y, yhat_train)\n",
        "    precision=precision_score(train_Y, yhat_train)\n",
        "    if cv==True:\n",
        "        print(\"Cross-Validation score\")\n",
        "        scores = cross_val_score(model, train_X, train_Y, cv = 10,scoring='accuracy') \n",
        "        avg_cross_val_score = np.mean(np.sqrt(np.abs(scores)))\n",
        "    else:\n",
        "        avg_cross_val_score=None\n",
        "    #avg_cross_val_score=0\n",
        "    model_metrics[model_label]=[accuracy,f1_macro,f1_micro,f1_weighted,recall,precision,avg_cross_val_score]\n",
        "    # Predict test data and add to test_result dataframe\n",
        "    print(test_result.shape,test_final.shape)\n",
        "    test_result[model_label] =  model.predict(test_final)\n",
        "    print(test_result.shape,test_final.shape)\n",
        "    return model_metrics"
      ],
      "execution_count": 0,
      "outputs": []
    },
    {
      "cell_type": "code",
      "metadata": {
        "id": "XOv4_gdSdP52",
        "colab_type": "code",
        "outputId": "e5c6d8c7-04b0-48ca-fd25-f9245adba876",
        "colab": {}
      },
      "source": [
        "# Logistic regression\n",
        "from sklearn.linear_model import LogisticRegression\n",
        "\n",
        "logistic_model = LogisticRegression()\n",
        "        \n",
        "model_metrics=calc_metrics_and_predict(logistic_model,'logistic_reg',train_X,test_X,train_Y,test_Y,test_final,None,False)\n",
        "model_metrics"
      ],
      "execution_count": 0,
      "outputs": [
        {
          "output_type": "stream",
          "text": [
            "fit data\n"
          ],
          "name": "stdout"
        },
        {
          "output_type": "stream",
          "text": [
            "/opt/conda/lib/python3.6/site-packages/sklearn/linear_model/logistic.py:432: FutureWarning: Default solver will be changed to 'lbfgs' in 0.22. Specify a solver to silence this warning.\n",
            "  FutureWarning)\n"
          ],
          "name": "stderr"
        },
        {
          "output_type": "stream",
          "text": [
            "predict data\n",
            "(56259, 29) (56259, 29)\n",
            "(56259, 30) (56259, 29)\n"
          ],
          "name": "stdout"
        },
        {
          "output_type": "execute_result",
          "data": {
            "text/plain": [
              "{'logistic_reg': [0.9992661876188917,\n",
              "  0.874816277268693,\n",
              "  0.9992661876188917,\n",
              "  0.9992070052705195,\n",
              "  0.6456953642384106,\n",
              "  0.8944954128440367,\n",
              "  None]}"
            ]
          },
          "metadata": {
            "tags": []
          },
          "execution_count": 29
        }
      ]
    },
    {
      "cell_type": "code",
      "metadata": {
        "id": "edFox-l9dP54",
        "colab_type": "code",
        "outputId": "3d0c107d-d053-49c3-e198-1d51c44082ea",
        "colab": {}
      },
      "source": [
        "# Using KNN \n",
        "''''\n",
        "from math import sqrt\n",
        "from sklearn.neighbors import KNeighborsClassifier\n",
        "\n",
        "y_train=np.ravel(train_Y)\n",
        "y_test=np.ravel(test_Y)\n",
        "accuracy_train_dict={}\n",
        "accuracy_test_dict={}\n",
        "df_len=round(sqrt(len(train_final)))\n",
        "for k in range(3,7):\n",
        "    K_value = k+1\n",
        "    neigh = KNeighborsClassifier(n_neighbors = K_value, weights='uniform', algorithm='auto')\n",
        "    neigh.fit(train_X, train_Y) \n",
        "    y_pred_train = neigh.predict(train_X)\n",
        "    y_pred_test = neigh.predict(test_X)    \n",
        "    train_accuracy=accuracy_score(train_Y,y_pred_train)*100\n",
        "    test_accuracy=accuracy_score(test_Y,y_pred_test)*100\n",
        "    accuracy_train_dict.update(({k:train_accuracy}))\n",
        "    accuracy_test_dict.update(({k:test_accuracy}))\n",
        "    print (\"Accuracy for train :\",train_accuracy ,\" and test :\",test_accuracy,\"% for K-Value:\",K_value)\n",
        "'''    "
      ],
      "execution_count": 0,
      "outputs": [
        {
          "output_type": "execute_result",
          "data": {
            "text/plain": [
              "'\\'\\nfrom math import sqrt\\nfrom sklearn.neighbors import KNeighborsClassifier\\n\\ny_train=np.ravel(train_Y)\\ny_test=np.ravel(test_Y)\\naccuracy_train_dict={}\\naccuracy_test_dict={}\\ndf_len=round(sqrt(len(train_final)))\\nfor k in range(3,7):\\n    K_value = k+1\\n    neigh = KNeighborsClassifier(n_neighbors = K_value, weights=\\'uniform\\', algorithm=\\'auto\\')\\n    neigh.fit(train_X, train_Y) \\n    y_pred_train = neigh.predict(train_X)\\n    y_pred_test = neigh.predict(test_X)    \\n    train_accuracy=accuracy_score(train_Y,y_pred_train)*100\\n    test_accuracy=accuracy_score(test_Y,y_pred_test)*100\\n    accuracy_train_dict.update(({k:train_accuracy}))\\n    accuracy_test_dict.update(({k:test_accuracy}))\\n    print (\"Accuracy for train :\",train_accuracy ,\" and test :\",test_accuracy,\"% for K-Value:\",K_value)\\n'"
            ]
          },
          "metadata": {
            "tags": []
          },
          "execution_count": 30
        }
      ]
    },
    {
      "cell_type": "code",
      "metadata": {
        "id": "mRSvhWxtdP55",
        "colab_type": "code",
        "outputId": "c1a5d537-8816-48f3-d3ed-4dd909d94833",
        "colab": {}
      },
      "source": [
        "print(train_X.shape,test_X.shape,train_Y.shape,test_Y.shape,test_final.columns,test_result.columns)"
      ],
      "execution_count": 0,
      "outputs": [
        {
          "output_type": "stream",
          "text": [
            "(177157, 29) (44290, 29) (177157,) (44290,) Index(['V1', 'V2', 'V3', 'V4', 'V5', 'V6', 'V7', 'V8', 'V9', 'V10', 'V11',\n",
            "       'V12', 'V13', 'V14', 'V15', 'V16', 'V17', 'V18', 'V19', 'V20', 'V21',\n",
            "       'V22', 'V23', 'V24', 'V25', 'V26', 'V27', 'V28', 'Amount'],\n",
            "      dtype='object') Index(['V1', 'V2', 'V3', 'V4', 'V5', 'V6', 'V7', 'V8', 'V9', 'V10', 'V11',\n",
            "       'V12', 'V13', 'V14', 'V15', 'V16', 'V17', 'V18', 'V19', 'V20', 'V21',\n",
            "       'V22', 'V23', 'V24', 'V25', 'V26', 'V27', 'V28', 'Amount',\n",
            "       'logistic_reg'],\n",
            "      dtype='object')\n"
          ],
          "name": "stdout"
        }
      ]
    },
    {
      "cell_type": "code",
      "metadata": {
        "id": "4AtV4z0gdP57",
        "colab_type": "code",
        "outputId": "ad629c49-4842-4f49-a498-51f7c4202b6b",
        "colab": {}
      },
      "source": [
        "from sklearn.neighbors import KNeighborsClassifier\n",
        "y_train=np.ravel(train_Y)\n",
        "y_test=np.ravel(test_Y)\n",
        "neigh = KNeighborsClassifier(n_neighbors =3 , weights='uniform', algorithm='auto')\n",
        "#neigh.fit(train_X, train_Y)\n",
        "\n",
        "#y_pred_train = neigh.predict(train_X)\n",
        "#y_pred_test = neigh.predict(test_X)    \n",
        "#y_pred_test_final = logistic_model.predict(train_X)\n",
        "#y_pred_test_final\n",
        "model_metrics=calc_metrics_and_predict(neigh,'K-NN',train_X,test_X,y_train,y_test,test_final,None,False)"
      ],
      "execution_count": 0,
      "outputs": [
        {
          "output_type": "stream",
          "text": [
            "fit data\n",
            "predict data\n",
            "(56259, 30) (56259, 29)\n",
            "(56259, 31) (56259, 29)\n"
          ],
          "name": "stdout"
        }
      ]
    },
    {
      "cell_type": "code",
      "metadata": {
        "id": "PajLlHSAdP5_",
        "colab_type": "code",
        "outputId": "083fb40d-cbaa-45b7-b564-0cec37207791",
        "colab": {}
      },
      "source": [
        "# using Naive bayes\n",
        "from sklearn.naive_bayes import GaussianNB\n",
        "NB=GaussianNB()\n",
        "model_metrics=calc_metrics_and_predict(NB,'Naive-Bayes',train_X,test_X,train_Y,test_Y,test_final,None,False)"
      ],
      "execution_count": 0,
      "outputs": [
        {
          "output_type": "stream",
          "text": [
            "fit data\n",
            "predict data\n",
            "(56259, 31) (56259, 29)\n",
            "(56259, 32) (56259, 29)\n"
          ],
          "name": "stdout"
        }
      ]
    },
    {
      "cell_type": "code",
      "metadata": {
        "id": "mSsE7-ZldP6C",
        "colab_type": "code",
        "outputId": "7950c3ee-3648-42f7-aeab-311b948d456d",
        "colab": {}
      },
      "source": [
        "## Boosting\n",
        "import matplotlib.pyplot as plt\n",
        "# Adaboost Classifier\n",
        "from sklearn.tree import DecisionTreeClassifier\n",
        "from sklearn.ensemble import AdaBoostClassifier\n",
        "dtree = DecisionTreeClassifier(criterion='gini',max_depth=1)\n",
        "\n",
        "adabst_fit = AdaBoostClassifier(base_estimator= dtree,\n",
        "        n_estimators=100,learning_rate=0.05,random_state=42)\n",
        "\n",
        "model_metrics=calc_metrics_and_predict(adabst_fit,'Ada-Boosting',train_X,test_X,train_Y,test_Y,test_final,None,False)"
      ],
      "execution_count": 0,
      "outputs": [
        {
          "output_type": "stream",
          "text": [
            "fit data\n",
            "predict data\n",
            "(56259, 32) (56259, 29)\n",
            "(56259, 33) (56259, 29)\n"
          ],
          "name": "stdout"
        }
      ]
    },
    {
      "cell_type": "code",
      "metadata": {
        "id": "MqaUZ1oAdP6D",
        "colab_type": "code",
        "outputId": "ada8f835-9e18-405a-b68b-afb3a6122619",
        "colab": {}
      },
      "source": [
        "# Gradientboost Classifier\n",
        "from sklearn.ensemble import GradientBoostingClassifier\n",
        "\n",
        "gbc_fit = GradientBoostingClassifier(loss='deviance',learning_rate=0.05,n_estimators=100,\n",
        "                                     min_samples_split=2,min_samples_leaf=1,max_depth=1,random_state=42 )\n",
        "\n",
        "model_metrics=calc_metrics_and_predict(gbc_fit,'Gradient-Boosting',train_X,test_X,train_Y,test_Y,test_final,None,False)"
      ],
      "execution_count": 0,
      "outputs": [
        {
          "output_type": "stream",
          "text": [
            "fit data\n",
            "predict data\n",
            "(56259, 33) (56259, 29)\n",
            "(56259, 34) (56259, 29)\n"
          ],
          "name": "stdout"
        }
      ]
    },
    {
      "cell_type": "code",
      "metadata": {
        "id": "HXKgMT6gdP6F",
        "colab_type": "code",
        "outputId": "15412da4-2538-4239-83ec-d29b7e4e503e",
        "colab": {}
      },
      "source": [
        "# Xgboost Classifier\n",
        "import xgboost as xgb\n",
        "\n",
        "xgb_fit = xgb.XGBClassifier(max_depth=2, n_estimators=100, learning_rate=0.05)\n",
        "\n",
        "model_metrics=calc_metrics_and_predict(xgb_fit,'XG-Boosting',train_X,test_X,train_Y,test_Y,test_final,None,False)"
      ],
      "execution_count": 0,
      "outputs": [
        {
          "output_type": "stream",
          "text": [
            "fit data\n",
            "predict data\n",
            "(56259, 34) (56259, 29)\n",
            "(56259, 35) (56259, 29)\n"
          ],
          "name": "stdout"
        }
      ]
    },
    {
      "cell_type": "code",
      "metadata": {
        "id": "a1qbi1_BdP6H",
        "colab_type": "code",
        "outputId": "ff9672c7-c276-4f6c-fa83-852cb556fc03",
        "colab": {}
      },
      "source": [
        "from sklearn.metrics import make_scorer, accuracy_score\n",
        "from sklearn.model_selection import GridSearchCV\n",
        "\n",
        "# Choose the type of classifier. \n",
        "clf = DecisionTreeClassifier()\n",
        "\n",
        "\n",
        "# Choose some parameter combinations to try\n",
        "parameters = {'max_features': ['log2', 'sqrt','auto'], \n",
        "              'criterion': ['entropy', 'gini'],\n",
        "              'max_depth': [i for i in range(1,20)], \n",
        "              'min_samples_split': [i for i in range(2,10)],\n",
        "              'min_samples_leaf': [i for i in range(2,10)]\n",
        "             }\n",
        "\n",
        "model_metrics=calc_metrics_and_predict(clf,'Decision-Tree',train_X,test_X,train_Y,test_Y,test_final,None,False)"
      ],
      "execution_count": 0,
      "outputs": [
        {
          "output_type": "stream",
          "text": [
            "fit data\n",
            "predict data\n",
            "(56259, 35) (56259, 29)\n",
            "(56259, 36) (56259, 29)\n"
          ],
          "name": "stdout"
        }
      ]
    },
    {
      "cell_type": "code",
      "metadata": {
        "id": "ZTfuuPeRdP6J",
        "colab_type": "code",
        "colab": {}
      },
      "source": [
        "# using Naive Bayes\n",
        "from sklearn.svm import SVC\n",
        "def fit_predict(train, test, y_train, y_test, scaler, kernel = 'linear', C = 1.0, degree = 3):\n",
        "    train_scaled = scaler.fit_transform(train)\n",
        "    test_scaled = scaler.transform(test)        \n",
        "    lr = SVC(kernel = kernel, degree = degree, C = C)\n",
        "    lr.fit(train_scaled, y_train)\n",
        "    y_pred = lr.predict(test_scaled)\n",
        "    print(accuracy_score(y_test, y_pred))"
      ],
      "execution_count": 0,
      "outputs": []
    },
    {
      "cell_type": "code",
      "metadata": {
        "id": "hd2PjqS8dP6M",
        "colab_type": "code",
        "outputId": "bec3a4e6-d3d3-4d94-ef99-cdc7370a81b7",
        "colab": {}
      },
      "source": [
        "y_train=np.ravel(train_Y)\n",
        "y_test=np.ravel(test_Y)\n",
        "for kernel in ['linear', 'poly', 'rbf', 'sigmoid']:\n",
        "    print('Accuracy score using {0} kernel:'.format(kernel), end = ' ')\n",
        "    fit_predict(train_X,test_X,train_Y,test_Y, StandardScaler(), kernel)"
      ],
      "execution_count": 0,
      "outputs": [
        {
          "output_type": "stream",
          "text": [
            "Accuracy score using linear kernel: 0.9993678031158275\n",
            "Accuracy score using poly kernel: 0.9993226461955295\n",
            "Accuracy score using rbf kernel: 0.9992097538947844\n",
            "Accuracy score using sigmoid kernel: 0.9983517724091217\n"
          ],
          "name": "stdout"
        }
      ]
    },
    {
      "cell_type": "code",
      "metadata": {
        "id": "b-vJ-e6xdP6O",
        "colab_type": "code",
        "outputId": "ec46fd23-1cd2-4dc0-e5c3-1f6b4b4afed6",
        "colab": {}
      },
      "source": [
        "for с in np.logspace(-1,3 ,base = 2, num = 6):\n",
        "    print('Accuracy score using penalty = {0} with rbf kernel:'.format(с), end = ' ')\n",
        "    fit_predict(train_X,test_X,train_Y,test_Y, StandardScaler(), 'poly', с)"
      ],
      "execution_count": 0,
      "outputs": [
        {
          "output_type": "stream",
          "text": [
            "Accuracy score using penalty = 0.5 with rbf kernel: 0.9993452246556784\n",
            "Accuracy score using penalty = 0.8705505632961241 with rbf kernel: 0.9993452246556784\n",
            "Accuracy score using penalty = 1.5157165665103982 with rbf kernel: 0.9993226461955295\n",
            "Accuracy score using penalty = 2.6390158215457893 with rbf kernel: 0.9992774892752314\n",
            "Accuracy score using penalty = 4.59479341998814 with rbf kernel: 0.9993452246556784\n",
            "Accuracy score using penalty = 8.0 with rbf kernel: 0.9992774892752314\n"
          ],
          "name": "stdout"
        }
      ]
    },
    {
      "cell_type": "code",
      "metadata": {
        "id": "6AwzFSjYdP6Q",
        "colab_type": "code",
        "outputId": "0e695734-68e9-4c64-f36f-79a1abff43f0",
        "colab": {}
      },
      "source": [
        "for degree in range(2, 6):\n",
        "    print('Accuracy score using degree = {0} with poly kernel:'.format(degree), end = ' ')\n",
        "    fit_predict(train_X,test_X,train_Y,test_Y, StandardScaler(), 'poly', 1.5, degree = degree)"
      ],
      "execution_count": 0,
      "outputs": [
        {
          "output_type": "stream",
          "text": [
            "Accuracy score using degree = 2 with poly kernel: 0.9993903815759765\n",
            "Accuracy score using degree = 3 with poly kernel: 0.9993226461955295\n",
            "Accuracy score using degree = 4 with poly kernel: 0.9994355384962745\n",
            "Accuracy score using degree = 5 with poly kernel: 0.9992774892752314\n"
          ],
          "name": "stdout"
        }
      ]
    },
    {
      "cell_type": "code",
      "metadata": {
        "id": "QKEmml4_dP6S",
        "colab_type": "code",
        "colab": {}
      },
      "source": [
        "lr = SVC(kernel ='poly' , degree =4 , C =0.5 )"
      ],
      "execution_count": 0,
      "outputs": []
    },
    {
      "cell_type": "code",
      "metadata": {
        "id": "zRzAz4v6dP6U",
        "colab_type": "code",
        "outputId": "1aa20297-2eb8-4433-cac0-ea14f135eb76",
        "colab": {}
      },
      "source": [
        "model_metrics=calc_metrics_and_predict(lr,'SVM',train_X,test_X,train_Y,test_Y,test_final,StandardScaler(),False)"
      ],
      "execution_count": 0,
      "outputs": [
        {
          "output_type": "stream",
          "text": [
            "Scaling applied\n",
            "fit data\n",
            "predict data\n",
            "(56259, 36) (56259, 29)\n",
            "(56259, 37) (56259, 29)\n"
          ],
          "name": "stdout"
        }
      ]
    },
    {
      "cell_type": "code",
      "metadata": {
        "id": "LSGssM38dP6W",
        "colab_type": "code",
        "colab": {}
      },
      "source": [
        "# Baseline model for the neural network. We choose a hidden layer of 10 neurons. The lesser number of neurons helps to eliminate the redundancies in the data and select the more important features.\n",
        "def create_baseline():\n",
        "    # create model\n",
        "    model = Sequential()\n",
        "    model.add(Dense(10, input_dim=29, kernel_initializer='normal', activation='relu'))\n",
        "    model.add(Dense(1, kernel_initializer='normal', activation='sigmoid'))\n",
        "    # Compile model. We use the the logarithmic loss function, and the Adam gradient optimizer.\n",
        "    model.compile(loss='binary_crossentropy', optimizer='adam', metrics=['accuracy'])\n",
        "    return model"
      ],
      "execution_count": 0,
      "outputs": []
    },
    {
      "cell_type": "code",
      "metadata": {
        "id": "q46owL6vdP6a",
        "colab_type": "code",
        "outputId": "bc580011-26af-4aa4-b049-3e463dcb7c16",
        "colab": {}
      },
      "source": [
        "# Importing libraries for building the neural network\n",
        "from keras.models import Sequential\n",
        "from keras.layers import Dense, Dropout\n",
        "from keras.wrappers.scikit_learn import KerasClassifier\n",
        "from sklearn.model_selection import StratifiedKFold\n",
        "from sklearn.model_selection import cross_val_score\n",
        "from sklearn.pipeline import Pipeline"
      ],
      "execution_count": 0,
      "outputs": [
        {
          "output_type": "stream",
          "text": [
            "Using TensorFlow backend.\n",
            "/opt/conda/lib/python3.6/site-packages/tensorflow/python/framework/dtypes.py:516: FutureWarning: Passing (type, 1) or '1type' as a synonym of type is deprecated; in a future version of numpy, it will be understood as (type, (1,)) / '(1,)type'.\n",
            "  _np_qint8 = np.dtype([(\"qint8\", np.int8, 1)])\n",
            "/opt/conda/lib/python3.6/site-packages/tensorflow/python/framework/dtypes.py:517: FutureWarning: Passing (type, 1) or '1type' as a synonym of type is deprecated; in a future version of numpy, it will be understood as (type, (1,)) / '(1,)type'.\n",
            "  _np_quint8 = np.dtype([(\"quint8\", np.uint8, 1)])\n",
            "/opt/conda/lib/python3.6/site-packages/tensorflow/python/framework/dtypes.py:518: FutureWarning: Passing (type, 1) or '1type' as a synonym of type is deprecated; in a future version of numpy, it will be understood as (type, (1,)) / '(1,)type'.\n",
            "  _np_qint16 = np.dtype([(\"qint16\", np.int16, 1)])\n",
            "/opt/conda/lib/python3.6/site-packages/tensorflow/python/framework/dtypes.py:519: FutureWarning: Passing (type, 1) or '1type' as a synonym of type is deprecated; in a future version of numpy, it will be understood as (type, (1,)) / '(1,)type'.\n",
            "  _np_quint16 = np.dtype([(\"quint16\", np.uint16, 1)])\n",
            "/opt/conda/lib/python3.6/site-packages/tensorflow/python/framework/dtypes.py:520: FutureWarning: Passing (type, 1) or '1type' as a synonym of type is deprecated; in a future version of numpy, it will be understood as (type, (1,)) / '(1,)type'.\n",
            "  _np_qint32 = np.dtype([(\"qint32\", np.int32, 1)])\n",
            "/opt/conda/lib/python3.6/site-packages/tensorflow/python/framework/dtypes.py:525: FutureWarning: Passing (type, 1) or '1type' as a synonym of type is deprecated; in a future version of numpy, it will be understood as (type, (1,)) / '(1,)type'.\n",
            "  np_resource = np.dtype([(\"resource\", np.ubyte, 1)])\n",
            "/opt/conda/lib/python3.6/site-packages/tensorboard/compat/tensorflow_stub/dtypes.py:541: FutureWarning: Passing (type, 1) or '1type' as a synonym of type is deprecated; in a future version of numpy, it will be understood as (type, (1,)) / '(1,)type'.\n",
            "  _np_qint8 = np.dtype([(\"qint8\", np.int8, 1)])\n",
            "/opt/conda/lib/python3.6/site-packages/tensorboard/compat/tensorflow_stub/dtypes.py:542: FutureWarning: Passing (type, 1) or '1type' as a synonym of type is deprecated; in a future version of numpy, it will be understood as (type, (1,)) / '(1,)type'.\n",
            "  _np_quint8 = np.dtype([(\"quint8\", np.uint8, 1)])\n",
            "/opt/conda/lib/python3.6/site-packages/tensorboard/compat/tensorflow_stub/dtypes.py:543: FutureWarning: Passing (type, 1) or '1type' as a synonym of type is deprecated; in a future version of numpy, it will be understood as (type, (1,)) / '(1,)type'.\n",
            "  _np_qint16 = np.dtype([(\"qint16\", np.int16, 1)])\n",
            "/opt/conda/lib/python3.6/site-packages/tensorboard/compat/tensorflow_stub/dtypes.py:544: FutureWarning: Passing (type, 1) or '1type' as a synonym of type is deprecated; in a future version of numpy, it will be understood as (type, (1,)) / '(1,)type'.\n",
            "  _np_quint16 = np.dtype([(\"quint16\", np.uint16, 1)])\n",
            "/opt/conda/lib/python3.6/site-packages/tensorboard/compat/tensorflow_stub/dtypes.py:545: FutureWarning: Passing (type, 1) or '1type' as a synonym of type is deprecated; in a future version of numpy, it will be understood as (type, (1,)) / '(1,)type'.\n",
            "  _np_qint32 = np.dtype([(\"qint32\", np.int32, 1)])\n",
            "/opt/conda/lib/python3.6/site-packages/tensorboard/compat/tensorflow_stub/dtypes.py:550: FutureWarning: Passing (type, 1) or '1type' as a synonym of type is deprecated; in a future version of numpy, it will be understood as (type, (1,)) / '(1,)type'.\n",
            "  np_resource = np.dtype([(\"resource\", np.ubyte, 1)])\n"
          ],
          "name": "stderr"
        }
      ]
    },
    {
      "cell_type": "code",
      "metadata": {
        "id": "_209o1qadP6d",
        "colab_type": "code",
        "outputId": "40a1e11b-84f6-4e91-810f-c4ce9b5b6e2d",
        "colab": {}
      },
      "source": [
        "from sklearn.preprocessing import LabelEncoder\n",
        "# Diagnosis values are strings. Changing them into numerical values using LabelEncoder.\n",
        "encoder = LabelEncoder()\n",
        "encoder.fit(Y)\n",
        "encoded_Y = encoder.transform(Y)\n",
        "encoded_Y.shape"
      ],
      "execution_count": 0,
      "outputs": [
        {
          "output_type": "execute_result",
          "data": {
            "text/plain": [
              "(221447,)"
            ]
          },
          "metadata": {
            "tags": []
          },
          "execution_count": 46
        }
      ]
    },
    {
      "cell_type": "code",
      "metadata": {
        "id": "dte97lYOdP6g",
        "colab_type": "code",
        "outputId": "aaa7bfbd-c8b5-4255-ec43-44123a9baa66",
        "colab": {}
      },
      "source": [
        "estimators = []\n",
        "estimators.append(('standardize', StandardScaler()))\n",
        "estimators.append(('mlp', KerasClassifier(build_fn=create_baseline, epochs=20, batch_size=100, verbose=0)))\n",
        "pipeline = Pipeline(estimators)\n",
        "kfold = StratifiedKFold(n_splits=5, shuffle=True)\n",
        "results = cross_val_score(pipeline, X, encoded_Y, cv=kfold)\n",
        "print(\"Results: %.2f%% (%.2f%%)\" % (results.mean()*100, results.std()*100))"
      ],
      "execution_count": 0,
      "outputs": [
        {
          "output_type": "stream",
          "text": [
            "Results: 99.94% (0.01%)\n"
          ],
          "name": "stdout"
        }
      ]
    },
    {
      "cell_type": "code",
      "metadata": {
        "id": "30rz2AV3dP6j",
        "colab_type": "code",
        "outputId": "fe53d7e1-0de1-4124-ec1c-37476434b9e9",
        "colab": {}
      },
      "source": [
        "keras_model=estimators[1][1]\n",
        "keras_model"
      ],
      "execution_count": 0,
      "outputs": [
        {
          "output_type": "execute_result",
          "data": {
            "text/plain": [
              "<keras.wrappers.scikit_learn.KerasClassifier at 0x7f2351ec9128>"
            ]
          },
          "metadata": {
            "tags": []
          },
          "execution_count": 48
        }
      ]
    },
    {
      "cell_type": "code",
      "metadata": {
        "id": "pQnC7QJBdP6k",
        "colab_type": "code",
        "outputId": "2779e4f4-1131-4aa4-faac-0c723d60e7fa",
        "colab": {}
      },
      "source": [
        "#keras_model.fit\n",
        "\n",
        "model_metrics=calc_metrics_and_predict(keras_model,'Keras',train_X,test_X,train_Y,test_Y,test_final,None,False)"
      ],
      "execution_count": 0,
      "outputs": [
        {
          "output_type": "stream",
          "text": [
            "fit data\n",
            "predict data\n",
            "(56259, 37) (56259, 29)\n",
            "(56259, 38) (56259, 29)\n"
          ],
          "name": "stdout"
        }
      ]
    },
    {
      "cell_type": "code",
      "metadata": {
        "id": "ecI3b-nIdP6m",
        "colab_type": "code",
        "outputId": "a6369347-32cd-4ab3-a136-4a0e2bb0fcbd",
        "colab": {}
      },
      "source": [
        "index=['accuracy','f1_macro','f1_micro','f1_weighted','recall','precision','avg_cross_val_score']\n",
        "index"
      ],
      "execution_count": 0,
      "outputs": [
        {
          "output_type": "execute_result",
          "data": {
            "text/plain": [
              "['accuracy',\n",
              " 'f1_macro',\n",
              " 'f1_micro',\n",
              " 'f1_weighted',\n",
              " 'recall',\n",
              " 'precision',\n",
              " 'avg_cross_val_score']"
            ]
          },
          "metadata": {
            "tags": []
          },
          "execution_count": 50
        }
      ]
    },
    {
      "cell_type": "code",
      "metadata": {
        "id": "unX2qFG8dP6o",
        "colab_type": "code",
        "outputId": "63b2c5a3-468c-48a8-a58a-cf245e19d20c",
        "colab": {}
      },
      "source": [
        "model_comparison_df=pd.DataFrame(index=index).from_dict(model_metrics)\n",
        "model_comparison_df"
      ],
      "execution_count": 0,
      "outputs": [
        {
          "output_type": "execute_result",
          "data": {
            "text/html": [
              "<div>\n",
              "<style scoped>\n",
              "    .dataframe tbody tr th:only-of-type {\n",
              "        vertical-align: middle;\n",
              "    }\n",
              "\n",
              "    .dataframe tbody tr th {\n",
              "        vertical-align: top;\n",
              "    }\n",
              "\n",
              "    .dataframe thead th {\n",
              "        text-align: right;\n",
              "    }\n",
              "</style>\n",
              "<table border=\"1\" class=\"dataframe\">\n",
              "  <thead>\n",
              "    <tr style=\"text-align: right;\">\n",
              "      <th></th>\n",
              "      <th>logistic_reg</th>\n",
              "      <th>K-NN</th>\n",
              "      <th>Naive-Bayes</th>\n",
              "      <th>Ada-Boosting</th>\n",
              "      <th>Gradient-Boosting</th>\n",
              "      <th>XG-Boosting</th>\n",
              "      <th>Decision-Tree</th>\n",
              "      <th>SVM</th>\n",
              "      <th>Keras</th>\n",
              "    </tr>\n",
              "  </thead>\n",
              "  <tbody>\n",
              "    <tr>\n",
              "      <th>0</th>\n",
              "      <td>0.999266</td>\n",
              "      <td>0.999509</td>\n",
              "      <td>0.978070</td>\n",
              "      <td>0.999153</td>\n",
              "      <td>0.998301</td>\n",
              "      <td>0.999458</td>\n",
              "      <td>1.0</td>\n",
              "      <td>0.999791</td>\n",
              "      <td>0.999520</td>\n",
              "    </tr>\n",
              "    <tr>\n",
              "      <th>1</th>\n",
              "      <td>0.874816</td>\n",
              "      <td>0.919767</td>\n",
              "      <td>0.551259</td>\n",
              "      <td>0.848578</td>\n",
              "      <td>0.502875</td>\n",
              "      <td>0.914150</td>\n",
              "      <td>1.0</td>\n",
              "      <td>0.967320</td>\n",
              "      <td>0.924659</td>\n",
              "    </tr>\n",
              "    <tr>\n",
              "      <th>2</th>\n",
              "      <td>0.999266</td>\n",
              "      <td>0.999509</td>\n",
              "      <td>0.978070</td>\n",
              "      <td>0.999153</td>\n",
              "      <td>0.998301</td>\n",
              "      <td>0.999458</td>\n",
              "      <td>1.0</td>\n",
              "      <td>0.999791</td>\n",
              "      <td>0.999520</td>\n",
              "    </tr>\n",
              "    <tr>\n",
              "      <th>3</th>\n",
              "      <td>0.999207</td>\n",
              "      <td>0.999481</td>\n",
              "      <td>0.987406</td>\n",
              "      <td>0.999061</td>\n",
              "      <td>0.997458</td>\n",
              "      <td>0.999437</td>\n",
              "      <td>1.0</td>\n",
              "      <td>0.999784</td>\n",
              "      <td>0.999504</td>\n",
              "    </tr>\n",
              "    <tr>\n",
              "      <th>4</th>\n",
              "      <td>0.645695</td>\n",
              "      <td>0.754967</td>\n",
              "      <td>0.824503</td>\n",
              "      <td>0.572848</td>\n",
              "      <td>0.003311</td>\n",
              "      <td>0.768212</td>\n",
              "      <td>1.0</td>\n",
              "      <td>0.877483</td>\n",
              "      <td>0.794702</td>\n",
              "    </tr>\n",
              "    <tr>\n",
              "      <th>5</th>\n",
              "      <td>0.894495</td>\n",
              "      <td>0.946058</td>\n",
              "      <td>0.061014</td>\n",
              "      <td>0.891753</td>\n",
              "      <td>1.000000</td>\n",
              "      <td>0.899225</td>\n",
              "      <td>1.0</td>\n",
              "      <td>1.000000</td>\n",
              "      <td>0.912548</td>\n",
              "    </tr>\n",
              "    <tr>\n",
              "      <th>6</th>\n",
              "      <td>NaN</td>\n",
              "      <td>NaN</td>\n",
              "      <td>NaN</td>\n",
              "      <td>NaN</td>\n",
              "      <td>NaN</td>\n",
              "      <td>NaN</td>\n",
              "      <td>NaN</td>\n",
              "      <td>NaN</td>\n",
              "      <td>NaN</td>\n",
              "    </tr>\n",
              "  </tbody>\n",
              "</table>\n",
              "</div>"
            ],
            "text/plain": [
              "   logistic_reg      K-NN  Naive-Bayes  Ada-Boosting  Gradient-Boosting  \\\n",
              "0      0.999266  0.999509     0.978070      0.999153           0.998301   \n",
              "1      0.874816  0.919767     0.551259      0.848578           0.502875   \n",
              "2      0.999266  0.999509     0.978070      0.999153           0.998301   \n",
              "3      0.999207  0.999481     0.987406      0.999061           0.997458   \n",
              "4      0.645695  0.754967     0.824503      0.572848           0.003311   \n",
              "5      0.894495  0.946058     0.061014      0.891753           1.000000   \n",
              "6           NaN       NaN          NaN           NaN                NaN   \n",
              "\n",
              "   XG-Boosting  Decision-Tree       SVM     Keras  \n",
              "0     0.999458            1.0  0.999791  0.999520  \n",
              "1     0.914150            1.0  0.967320  0.924659  \n",
              "2     0.999458            1.0  0.999791  0.999520  \n",
              "3     0.999437            1.0  0.999784  0.999504  \n",
              "4     0.768212            1.0  0.877483  0.794702  \n",
              "5     0.899225            1.0  1.000000  0.912548  \n",
              "6          NaN            NaN       NaN       NaN  "
            ]
          },
          "metadata": {
            "tags": []
          },
          "execution_count": 51
        }
      ]
    },
    {
      "cell_type": "code",
      "metadata": {
        "id": "GWrwELUXdP6p",
        "colab_type": "code",
        "colab": {}
      },
      "source": [
        ""
      ],
      "execution_count": 0,
      "outputs": []
    }
  ]
}